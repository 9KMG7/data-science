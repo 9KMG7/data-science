{
 "cells": [
  {
   "cell_type": "code",
   "execution_count": 1,
   "id": "418ca027",
   "metadata": {},
   "outputs": [],
   "source": [
    "import pandas as pd\n",
    "import numpy as np"
   ]
  },
  {
   "cell_type": "code",
   "execution_count": 2,
   "id": "fc0db782",
   "metadata": {},
   "outputs": [],
   "source": [
    "customer_names = pd.read_csv(r\"C:\\Users\\micha\\Desktop\\Nowy folder\\northwind-mongo-master\\customers.csv\",usecols=['CustomerID','CompanyName'])"
   ]
  },
  {
   "cell_type": "code",
   "execution_count": 3,
   "id": "b236afc6",
   "metadata": {},
   "outputs": [],
   "source": [
    "customer_cities = pd.read_csv(r\"C:\\Users\\micha\\Desktop\\Nowy folder\\northwind-mongo-master\\customers.csv\",usecols=['CustomerID','Country'])"
   ]
  },
  {
   "cell_type": "code",
   "execution_count": 5,
   "id": "01dfb192",
   "metadata": {},
   "outputs": [
    {
     "data": {
      "text/plain": [
       "182"
      ]
     },
     "execution_count": 5,
     "metadata": {},
     "output_type": "execute_result"
    }
   ],
   "source": [
    "customer_cities.size"
   ]
  },
  {
   "cell_type": "code",
   "execution_count": 6,
   "id": "468d00b7",
   "metadata": {},
   "outputs": [
    {
     "data": {
      "text/plain": [
       "91"
      ]
     },
     "execution_count": 6,
     "metadata": {},
     "output_type": "execute_result"
    }
   ],
   "source": [
    "len(customer_cities)"
   ]
  },
  {
   "cell_type": "code",
   "execution_count": 7,
   "id": "5e759ebb",
   "metadata": {},
   "outputs": [
    {
     "data": {
      "text/plain": [
       "91"
      ]
     },
     "execution_count": 7,
     "metadata": {},
     "output_type": "execute_result"
    }
   ],
   "source": [
    "len(customer_names)"
   ]
  },
  {
   "cell_type": "code",
   "execution_count": 8,
   "id": "3e1c71b3",
   "metadata": {},
   "outputs": [],
   "source": [
    "customer_cities.set_index(\"CustomerID\", inplace=True)"
   ]
  },
  {
   "cell_type": "code",
   "execution_count": 9,
   "id": "f242414c",
   "metadata": {},
   "outputs": [],
   "source": [
    "customer_names.set_index('CustomerID', inplace=True)"
   ]
  },
  {
   "cell_type": "code",
   "execution_count": 10,
   "id": "f923d206",
   "metadata": {},
   "outputs": [
    {
     "data": {
      "text/html": [
       "<div>\n",
       "<style scoped>\n",
       "    .dataframe tbody tr th:only-of-type {\n",
       "        vertical-align: middle;\n",
       "    }\n",
       "\n",
       "    .dataframe tbody tr th {\n",
       "        vertical-align: top;\n",
       "    }\n",
       "\n",
       "    .dataframe thead th {\n",
       "        text-align: right;\n",
       "    }\n",
       "</style>\n",
       "<table border=\"1\" class=\"dataframe\">\n",
       "  <thead>\n",
       "    <tr style=\"text-align: right;\">\n",
       "      <th></th>\n",
       "      <th>Country</th>\n",
       "    </tr>\n",
       "    <tr>\n",
       "      <th>CustomerID</th>\n",
       "      <th></th>\n",
       "    </tr>\n",
       "  </thead>\n",
       "  <tbody>\n",
       "    <tr>\n",
       "      <th>ALFKI</th>\n",
       "      <td>Germany</td>\n",
       "    </tr>\n",
       "    <tr>\n",
       "      <th>ANATR</th>\n",
       "      <td>Mexico</td>\n",
       "    </tr>\n",
       "    <tr>\n",
       "      <th>ANTON</th>\n",
       "      <td>Mexico</td>\n",
       "    </tr>\n",
       "    <tr>\n",
       "      <th>AROUT</th>\n",
       "      <td>UK</td>\n",
       "    </tr>\n",
       "    <tr>\n",
       "      <th>BERGS</th>\n",
       "      <td>Sweden</td>\n",
       "    </tr>\n",
       "  </tbody>\n",
       "</table>\n",
       "</div>"
      ],
      "text/plain": [
       "            Country\n",
       "CustomerID         \n",
       "ALFKI       Germany\n",
       "ANATR        Mexico\n",
       "ANTON        Mexico\n",
       "AROUT            UK\n",
       "BERGS        Sweden"
      ]
     },
     "execution_count": 10,
     "metadata": {},
     "output_type": "execute_result"
    }
   ],
   "source": [
    "customer_cities.head()"
   ]
  },
  {
   "cell_type": "code",
   "execution_count": 11,
   "id": "7b18a09c",
   "metadata": {},
   "outputs": [
    {
     "data": {
      "text/html": [
       "<div>\n",
       "<style scoped>\n",
       "    .dataframe tbody tr th:only-of-type {\n",
       "        vertical-align: middle;\n",
       "    }\n",
       "\n",
       "    .dataframe tbody tr th {\n",
       "        vertical-align: top;\n",
       "    }\n",
       "\n",
       "    .dataframe thead th {\n",
       "        text-align: right;\n",
       "    }\n",
       "</style>\n",
       "<table border=\"1\" class=\"dataframe\">\n",
       "  <thead>\n",
       "    <tr style=\"text-align: right;\">\n",
       "      <th></th>\n",
       "      <th>CompanyName</th>\n",
       "    </tr>\n",
       "    <tr>\n",
       "      <th>CustomerID</th>\n",
       "      <th></th>\n",
       "    </tr>\n",
       "  </thead>\n",
       "  <tbody>\n",
       "    <tr>\n",
       "      <th>ALFKI</th>\n",
       "      <td>Alfreds Futterkiste</td>\n",
       "    </tr>\n",
       "    <tr>\n",
       "      <th>ANATR</th>\n",
       "      <td>Ana Trujillo Emparedados y helados</td>\n",
       "    </tr>\n",
       "    <tr>\n",
       "      <th>ANTON</th>\n",
       "      <td>Antonio Moreno Taquer?­a</td>\n",
       "    </tr>\n",
       "    <tr>\n",
       "      <th>AROUT</th>\n",
       "      <td>Around the Horn</td>\n",
       "    </tr>\n",
       "    <tr>\n",
       "      <th>BERGS</th>\n",
       "      <td>Berglunds snabbk?¶p</td>\n",
       "    </tr>\n",
       "  </tbody>\n",
       "</table>\n",
       "</div>"
      ],
      "text/plain": [
       "                                   CompanyName\n",
       "CustomerID                                    \n",
       "ALFKI                      Alfreds Futterkiste\n",
       "ANATR       Ana Trujillo Emparedados y helados\n",
       "ANTON                 Antonio Moreno Taquer?­a\n",
       "AROUT                          Around the Horn\n",
       "BERGS                      Berglunds snabbk?¶p"
      ]
     },
     "execution_count": 11,
     "metadata": {},
     "output_type": "execute_result"
    }
   ],
   "source": [
    "customer_names.head()"
   ]
  },
  {
   "cell_type": "code",
   "execution_count": 14,
   "id": "e9b6e580",
   "metadata": {},
   "outputs": [],
   "source": [
    "dab =customer_names.join(customer_cities)"
   ]
  },
  {
   "cell_type": "code",
   "execution_count": 15,
   "id": "9a71ea35",
   "metadata": {},
   "outputs": [
    {
     "data": {
      "text/plain": [
       "91"
      ]
     },
     "execution_count": 15,
     "metadata": {},
     "output_type": "execute_result"
    }
   ],
   "source": [
    "len(dab)"
   ]
  },
  {
   "cell_type": "code",
   "execution_count": 16,
   "id": "9b882ab9",
   "metadata": {},
   "outputs": [],
   "source": [
    "customer_names.reset_index(inplace=True)"
   ]
  },
  {
   "cell_type": "code",
   "execution_count": 17,
   "id": "1ae38fa6",
   "metadata": {},
   "outputs": [
    {
     "data": {
      "text/html": [
       "<div>\n",
       "<style scoped>\n",
       "    .dataframe tbody tr th:only-of-type {\n",
       "        vertical-align: middle;\n",
       "    }\n",
       "\n",
       "    .dataframe tbody tr th {\n",
       "        vertical-align: top;\n",
       "    }\n",
       "\n",
       "    .dataframe thead th {\n",
       "        text-align: right;\n",
       "    }\n",
       "</style>\n",
       "<table border=\"1\" class=\"dataframe\">\n",
       "  <thead>\n",
       "    <tr style=\"text-align: right;\">\n",
       "      <th></th>\n",
       "      <th>CustomerID</th>\n",
       "      <th>CompanyName</th>\n",
       "    </tr>\n",
       "  </thead>\n",
       "  <tbody>\n",
       "    <tr>\n",
       "      <th>0</th>\n",
       "      <td>ALFKI</td>\n",
       "      <td>Alfreds Futterkiste</td>\n",
       "    </tr>\n",
       "    <tr>\n",
       "      <th>1</th>\n",
       "      <td>ANATR</td>\n",
       "      <td>Ana Trujillo Emparedados y helados</td>\n",
       "    </tr>\n",
       "    <tr>\n",
       "      <th>2</th>\n",
       "      <td>ANTON</td>\n",
       "      <td>Antonio Moreno Taquer?­a</td>\n",
       "    </tr>\n",
       "    <tr>\n",
       "      <th>3</th>\n",
       "      <td>AROUT</td>\n",
       "      <td>Around the Horn</td>\n",
       "    </tr>\n",
       "    <tr>\n",
       "      <th>4</th>\n",
       "      <td>BERGS</td>\n",
       "      <td>Berglunds snabbk?¶p</td>\n",
       "    </tr>\n",
       "  </tbody>\n",
       "</table>\n",
       "</div>"
      ],
      "text/plain": [
       "  CustomerID                         CompanyName\n",
       "0      ALFKI                 Alfreds Futterkiste\n",
       "1      ANATR  Ana Trujillo Emparedados y helados\n",
       "2      ANTON            Antonio Moreno Taquer?­a\n",
       "3      AROUT                     Around the Horn\n",
       "4      BERGS                 Berglunds snabbk?¶p"
      ]
     },
     "execution_count": 17,
     "metadata": {},
     "output_type": "execute_result"
    }
   ],
   "source": [
    "customer_names.head()"
   ]
  },
  {
   "cell_type": "code",
   "execution_count": 20,
   "id": "b6c25c2f",
   "metadata": {},
   "outputs": [
    {
     "data": {
      "text/html": [
       "<div>\n",
       "<style scoped>\n",
       "    .dataframe tbody tr th:only-of-type {\n",
       "        vertical-align: middle;\n",
       "    }\n",
       "\n",
       "    .dataframe tbody tr th {\n",
       "        vertical-align: top;\n",
       "    }\n",
       "\n",
       "    .dataframe thead th {\n",
       "        text-align: right;\n",
       "    }\n",
       "</style>\n",
       "<table border=\"1\" class=\"dataframe\">\n",
       "  <thead>\n",
       "    <tr style=\"text-align: right;\">\n",
       "      <th></th>\n",
       "      <th>CustomerID</th>\n",
       "      <th>CompanyName</th>\n",
       "      <th>Country</th>\n",
       "    </tr>\n",
       "  </thead>\n",
       "  <tbody>\n",
       "    <tr>\n",
       "      <th>0</th>\n",
       "      <td>ALFKI</td>\n",
       "      <td>Alfreds Futterkiste</td>\n",
       "      <td>Germany</td>\n",
       "    </tr>\n",
       "    <tr>\n",
       "      <th>1</th>\n",
       "      <td>ANATR</td>\n",
       "      <td>Ana Trujillo Emparedados y helados</td>\n",
       "      <td>Mexico</td>\n",
       "    </tr>\n",
       "    <tr>\n",
       "      <th>2</th>\n",
       "      <td>ANTON</td>\n",
       "      <td>Antonio Moreno Taquer?­a</td>\n",
       "      <td>Mexico</td>\n",
       "    </tr>\n",
       "    <tr>\n",
       "      <th>3</th>\n",
       "      <td>AROUT</td>\n",
       "      <td>Around the Horn</td>\n",
       "      <td>UK</td>\n",
       "    </tr>\n",
       "    <tr>\n",
       "      <th>4</th>\n",
       "      <td>BERGS</td>\n",
       "      <td>Berglunds snabbk?¶p</td>\n",
       "      <td>Sweden</td>\n",
       "    </tr>\n",
       "    <tr>\n",
       "      <th>...</th>\n",
       "      <td>...</td>\n",
       "      <td>...</td>\n",
       "      <td>...</td>\n",
       "    </tr>\n",
       "    <tr>\n",
       "      <th>86</th>\n",
       "      <td>WARTH</td>\n",
       "      <td>Wartian Herkku</td>\n",
       "      <td>Finland</td>\n",
       "    </tr>\n",
       "    <tr>\n",
       "      <th>87</th>\n",
       "      <td>WELLI</td>\n",
       "      <td>Wellington Importadora</td>\n",
       "      <td>Brazil</td>\n",
       "    </tr>\n",
       "    <tr>\n",
       "      <th>88</th>\n",
       "      <td>WHITC</td>\n",
       "      <td>White Clover Markets</td>\n",
       "      <td>USA</td>\n",
       "    </tr>\n",
       "    <tr>\n",
       "      <th>89</th>\n",
       "      <td>WILMK</td>\n",
       "      <td>Wilman Kala</td>\n",
       "      <td>Finland</td>\n",
       "    </tr>\n",
       "    <tr>\n",
       "      <th>90</th>\n",
       "      <td>WOLZA</td>\n",
       "      <td>Wolski  Zajazd</td>\n",
       "      <td>Poland</td>\n",
       "    </tr>\n",
       "  </tbody>\n",
       "</table>\n",
       "<p>91 rows × 3 columns</p>\n",
       "</div>"
      ],
      "text/plain": [
       "   CustomerID                         CompanyName  Country\n",
       "0       ALFKI                 Alfreds Futterkiste  Germany\n",
       "1       ANATR  Ana Trujillo Emparedados y helados   Mexico\n",
       "2       ANTON            Antonio Moreno Taquer?­a   Mexico\n",
       "3       AROUT                     Around the Horn       UK\n",
       "4       BERGS                 Berglunds snabbk?¶p   Sweden\n",
       "..        ...                                 ...      ...\n",
       "86      WARTH                      Wartian Herkku  Finland\n",
       "87      WELLI              Wellington Importadora   Brazil\n",
       "88      WHITC                White Clover Markets      USA\n",
       "89      WILMK                         Wilman Kala  Finland\n",
       "90      WOLZA                      Wolski  Zajazd   Poland\n",
       "\n",
       "[91 rows x 3 columns]"
      ]
     },
     "execution_count": 20,
     "metadata": {},
     "output_type": "execute_result"
    }
   ],
   "source": [
    "customer_names.join(customer_cities, on='CustomerID')"
   ]
  },
  {
   "cell_type": "code",
   "execution_count": null,
   "id": "423e2d38",
   "metadata": {},
   "outputs": [],
   "source": []
  }
 ],
 "metadata": {
  "kernelspec": {
   "display_name": "Python 3 (ipykernel)",
   "language": "python",
   "name": "python3"
  },
  "language_info": {
   "codemirror_mode": {
    "name": "ipython",
    "version": 3
   },
   "file_extension": ".py",
   "mimetype": "text/x-python",
   "name": "python",
   "nbconvert_exporter": "python",
   "pygments_lexer": "ipython3",
   "version": "3.9.13"
  }
 },
 "nbformat": 4,
 "nbformat_minor": 5
}
